{
 "cells": [
  {
   "cell_type": "markdown",
   "id": "e88903a6-aa57-4065-90fb-41f5511621f1",
   "metadata": {},
   "source": [
    "### Task Scheduling Objective Calculator\n",
    "\n",
    "Programming Language: Python\n",
    "\n",
    "Created a task calculator that tells you the following...\n",
    "\n",
    "1). Your Current Task\n",
    "\n",
    "2). How much time you need to complete your work?\n",
    "\n",
    "3). Determine if you are able to complete it or you need more time to complete this task.\n",
    "\n",
    "Improves decision-making skills when it comes to managing your time in a human-computer interaction. Reviews the fundamentals of Python's Function types as well with boolean statements.\n"
   ]
  },
  {
   "cell_type": "code",
   "execution_count": 2,
   "id": "4c106e8d-7253-4dd4-b463-8c7d988f1034",
   "metadata": {},
   "outputs": [
    {
     "name": "stdin",
     "output_type": "stream",
     "text": [
      "Name of task?:  Coding\n",
      "How many hours needed?:  0\n",
      "How many minutes needed (NOTE: IF 0, place 0)?:  30\n"
     ]
    },
    {
     "name": "stdout",
     "output_type": "stream",
     "text": [
      "You may need to have a journal or an online calendar tool that can assist you planning your schedule.\n",
      "0 hour(s) 30 minute(s) has been converted to 30 minutes.\n",
      "Place 30 minutes now on your timer (on your phone or a physical one).\n"
     ]
    },
    {
     "name": "stdin",
     "output_type": "stream",
     "text": [
      "Were you able to accomplish this particular Coding at 30 minutes? Yes\n"
     ]
    },
    {
     "name": "stdout",
     "output_type": "stream",
     "text": [
      "Yes\n",
      "Great!! You may now move on to other things that you can work on or spend the rest of the day having fun!\n"
     ]
    }
   ],
   "source": [
    "def task_calculator (doing, hours, minutes):\n",
    "    #Make a note about this\n",
    "    note = \"You may need to have a journal or an online calendar tool that can assist you planning your schedule.\"\n",
    "    #Do you have other things you need to accomplish it?\n",
    "    print(note)\n",
    "    #Estimate your time needed for this task\n",
    "    #Calculate how much time you need to process your work\n",
    "    first_question = f\"How much time you need to complete this {doing} task?\"\n",
    "    #1 hour is 60 minutes, so estimate your time \n",
    "    convert_min = (hours * 60) + minutes\n",
    "    print (f\"{hours} hour(s) {minutes} minute(s) has been converted to {convert_min} minutes.\")\n",
    "    #Then make an instruction to use that time to finish their task\n",
    "    print (f\"Place {convert_min} minutes now on your timer (on your phone or a physical one).\")\n",
    "    #Make a decision on whether if you have enough time on working other things\n",
    "    second_question = input(f\"Were you able to accomplish this particular {doing} at {convert_min} minutes?\")\n",
    "    print (second_question)\n",
    "    #if yes - it should match with the convert min (be specific with it)\n",
    "    if second_question == \"Yes\":\n",
    "        print(\"Great!! You may now move on to other things that you can work on or spend the rest of the day having fun!\")\n",
    "    elif second_question == \"No\": \n",
    "        #Type new hour and minutes that you have already worked on.\n",
    "        hours_spent = int(input(f\"How many more hours you need to complete this {doing}?: \"))\n",
    "        minutes_spent = int(input(f\"How many more minutes you need to complete this {doing} (NOTE: IF 0, place 0)?: \"))\n",
    "        #Make a new calculation showing the remainnder of time needed\n",
    "        new_convert_min = ((hours_spent * 60) + minutes_spent)\n",
    "        #as well the statement here\n",
    "        new_statement = f\"This is your new total time for you to complete. Place {new_convert_min} minutes now on your timer (on your phone or a physical one).\"\n",
    "        print(new_statement)\n",
    "        #Checking again if completed.\n",
    "        third_question = input(f\"Were you able to accomplish this particular {doing} at {new_convert_min} minutes?\")\n",
    "        print(third_question)\n",
    "        ##if yes - it should match with the convert min (be specific with it)\n",
    "        if third_question == \"Yes\":\n",
    "            print(\"Great!! You may now move on to other things that you can work on or spend the rest of the day having fun!\")\n",
    "        #if not - return this suggestion\n",
    "        elif third_question == \"No\" or \"no\":\n",
    "            result = print(\"Refer back to your schedule planner to see what changes can you make and return to this calculation when needed.\" )\n",
    "            return result\n",
    "\n",
    "#What is your task?\n",
    "task = input(f\"Name of task?: \")\n",
    "#How many hours do you need to complete your task?\n",
    "hours = int(input(f\"How many hours needed?: \"))\n",
    "#How many minutes do you need to complete your task?\n",
    "minutes = int(input(f\"How many minutes needed (NOTE: IF 0, place 0)?: \"))\n",
    "task_calculator(task, hours, minutes)"
   ]
  },
  {
   "cell_type": "code",
   "execution_count": null,
   "id": "0cf385d4-89e4-480b-b379-6a2cf2c23192",
   "metadata": {},
   "outputs": [],
   "source": []
  }
 ],
 "metadata": {
  "kernelspec": {
   "display_name": "Python 3 (ipykernel)",
   "language": "python",
   "name": "python3"
  },
  "language_info": {
   "codemirror_mode": {
    "name": "ipython",
    "version": 3
   },
   "file_extension": ".py",
   "mimetype": "text/x-python",
   "name": "python",
   "nbconvert_exporter": "python",
   "pygments_lexer": "ipython3",
   "version": "3.12.3"
  }
 },
 "nbformat": 4,
 "nbformat_minor": 5
}
